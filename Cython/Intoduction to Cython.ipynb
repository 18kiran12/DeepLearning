{
 "cells": [
  {
   "cell_type": "markdown",
   "metadata": {},
   "source": [
    "<h2> <center>Understanding use of cython library and a test case of its performance</center></h2>\n"
   ]
  },
  {
   "cell_type": "markdown",
   "metadata": {},
   "source": [
    "- The actual code for the project is from Siraj Raval please view this https://github.com/llSourcell/c_programming_for_machine_learning/blob/master/Cython.ipynb for more details . \n",
    "    This is just a basic setup and experimentation"
   ]
  },
  {
   "cell_type": "code",
   "execution_count": 1,
   "metadata": {},
   "outputs": [],
   "source": [
    "from random import random"
   ]
  },
  {
   "cell_type": "markdown",
   "metadata": {},
   "source": [
    "<h3>A recatngle example using simple python<?h3>"
   ]
  },
  {
   "cell_type": "code",
   "execution_count": 2,
   "metadata": {},
   "outputs": [],
   "source": [
    "threshold = 0.3\n",
    "\n",
    "\n",
    "def calc_area(length, width):\n",
    "    area = length * width\n",
    "    return area\n",
    "\n",
    "def main_rectangles_py():\n",
    "    n_rectangles = 10000000\n",
    "    out = 0\n",
    "    lengths = list(random() for i in range(n_rectangles))\n",
    "    breadths = list(random() for j in range(n_rectangles))\n",
    "    for i in range(n_rectangles):\n",
    "        area = calc_area(lengths[i], breadths[i])\n",
    "        if area > threshold:\n",
    "            out += 1\n",
    "    return out/n_rectangles\n",
    "\n"
   ]
  },
  {
   "cell_type": "code",
   "execution_count": 3,
   "metadata": {},
   "outputs": [
    {
     "name": "stdout",
     "output_type": "stream",
     "text": [
      "CPU times: user 3.61 s, sys: 180 ms, total: 3.79 s\n",
      "Wall time: 3.79 s\n"
     ]
    },
    {
     "data": {
      "text/plain": [
       "0.3388324"
      ]
     },
     "execution_count": 3,
     "metadata": {},
     "output_type": "execute_result"
    }
   ],
   "source": [
    "%%time\n",
    "main_rectangles_py()"
   ]
  },
  {
   "cell_type": "markdown",
   "metadata": {},
   "source": [
    "<h2>Cython</h2>"
   ]
  },
  {
   "cell_type": "markdown",
   "metadata": {},
   "source": [
    "<h3>Why is Cython better ?</h3>"
   ]
  },
  {
   "cell_type": "markdown",
   "metadata": {},
   "source": [
    "- python uses garbage collection instead of manual memory management, which means developers can freely create objectsand Python's memory manager will periodically look for any objects that are no longer referenced by their program this overhead makes demands on the runtime environment (slower).\n",
    "- explicit C data type"
   ]
  },
  {
   "cell_type": "markdown",
   "metadata": {},
   "source": [
    "<h3>Basics</h3>"
   ]
  },
  {
   "cell_type": "markdown",
   "metadata": {},
   "source": [
    "- cython is Python with C data types.\n",
    "- can be called in a jupyter notebook using %load_ext Cython"
   ]
  },
  {
   "cell_type": "code",
   "execution_count": 4,
   "metadata": {},
   "outputs": [],
   "source": [
    "%load_ext Cython"
   ]
  },
  {
   "cell_type": "markdown",
   "metadata": {},
   "source": [
    "- Then, prefix a cell with the %%cython marker to compile it:"
   ]
  },
  {
   "cell_type": "code",
   "execution_count": 14,
   "metadata": {},
   "outputs": [
    {
     "name": "stdout",
     "output_type": "stream",
     "text": [
      "2251799813685248.0\n",
      "CPU times: user 5.56 s, sys: 7.95 ms, total: 5.57 s\n",
      "Wall time: 5.56 s\n"
     ]
    }
   ],
   "source": [
    "%%time\n",
    "%%cython\n",
    "\n",
    "cdef float a = 0\n",
    "for i in range(100000000):\n",
    "    a += i\n",
    "print(a)"
   ]
  },
  {
   "cell_type": "code",
   "execution_count": 6,
   "metadata": {},
   "outputs": [
    {
     "name": "stdout",
     "output_type": "stream",
     "text": [
      "4999999950000000\n",
      "CPU times: user 7.95 s, sys: 345 µs, total: 7.95 s\n",
      "Wall time: 7.95 s\n"
     ]
    }
   ],
   "source": [
    "%%time\n",
    "\n",
    "a = 0 #exectued using python compiler\n",
    "for i in range(100000000):\n",
    "    a += i\n",
    "print(a)"
   ]
  },
  {
   "cell_type": "markdown",
   "metadata": {},
   "source": [
    "<p><b>As we can see, cython compiler uses 5 s seconds to complete the same operation that the python compiler takes almost twice the time of 8 s</p>"
   ]
  },
  {
   "cell_type": "markdown",
   "metadata": {},
   "source": [
    "<h3>A rectangle example using Cython</h3>"
   ]
  },
  {
   "cell_type": "code",
   "execution_count": 7,
   "metadata": {},
   "outputs": [
    {
     "name": "stdout",
     "output_type": "stream",
     "text": [
      "The Cython extension is already loaded. To reload it, use:\n",
      "  %reload_ext Cython\n"
     ]
    }
   ],
   "source": [
    "%load_ext Cython"
   ]
  },
  {
   "cell_type": "markdown",
   "metadata": {},
   "source": [
    "- <b>cdef</b> - cython only functions, can't access these from python-only code, must access within Cython, since there will be no C translation to Python for these.\n",
    "- <b>cymem</b> - cymem provides two small memory-management helpers for Cython. They make it easy to tie memory to a Python object's life-cycle, so that the memory is freed when the object is garbage collected\n",
    "- <b>pool</b> - The Pool object saves the memory addresses internally, and frees them when the object is garbage collected.  This is particularly handy for deeply nested structs, which have complicated initialization functions. Just pass the Pool object into the initializer, and you don't have to worry about freeing your struct at all — all of the calls to Pool.alloc will be automatically freed when the Pool expires.\n"
   ]
  },
  {
   "cell_type": "markdown",
   "metadata": {},
   "source": [
    "<h4> Using pool for mem allocation</h4>"
   ]
  },
  {
   "cell_type": "code",
   "execution_count": 8,
   "metadata": {},
   "outputs": [],
   "source": [
    "# from cymem.cymem cimport Pool\n",
    "# cdef Pool mem = Pool()\n",
    "# data1 = <int*>mem.alloc(10, sizeof(int))\n",
    "# data2 = <float*>mem.alloc(12, sizeof(float))"
   ]
  },
  {
   "cell_type": "code",
   "execution_count": 9,
   "metadata": {},
   "outputs": [],
   "source": [
    "%%cython\n",
    "from cymem.cymem cimport Pool\n"
   ]
  },
  {
   "cell_type": "code",
   "execution_count": 10,
   "metadata": {},
   "outputs": [],
   "source": [
    "%%cython\n",
    "from cymem.cymem cimport Pool #memory management helper\n",
    "from random import random\n",
    "\n",
    "# create a rectangle constructor\n",
    "cdef struct Rectangle:\n",
    "    #explicitly declare c datatypes \n",
    "    float height\n",
    "    float width\n",
    "\n",
    "# definition for checking rectangles\n",
    "cdef int check_rectangles_cy(Rectangle* rectangles, int n_rectangles, float threshold):\n",
    "    out = 0\n",
    "    for rectangle in rectangles[: n_rectangles]:\n",
    "        if rectangle.width * rectangle.height > threshold:\n",
    "            out += 1\n",
    "    return out\n",
    "\n",
    "#main program (no cdef)\n",
    "def main_rectangles_cy():\n",
    "    cdef int n_rectangles = 10000000\n",
    "    cdef float threshold = 0.3\n",
    "    # The Pool Object will save memory addresses internally\n",
    "    cdef Pool mem = Pool()\n",
    "    cdef Rectangle*  rectangles = <Rectangle*>mem.alloc(n_rectangles, sizeof(Rectangle))\n",
    "    for i in range(n_rectangles):\n",
    "        rectangles[i].width = random()\n",
    "        rectangles[i].height = random()\n",
    "    n_out = check_rectangles_cy(rectangles, n_rectangles, threshold)\n",
    "    print(n_out)"
   ]
  },
  {
   "cell_type": "code",
   "execution_count": 11,
   "metadata": {},
   "outputs": [
    {
     "name": "stdout",
     "output_type": "stream",
     "text": [
      "3387285\n",
      "CPU times: user 602 ms, sys: 36 ms, total: 638 ms\n",
      "Wall time: 637 ms\n"
     ]
    }
   ],
   "source": [
    "%%time\n",
    "main_rectangles_cy()"
   ]
  },
  {
   "cell_type": "markdown",
   "metadata": {},
   "source": [
    "<b>Our cython implimentation takes 638 seconds. Now lets compare the python implementation"
   ]
  },
  {
   "cell_type": "code",
   "execution_count": 12,
   "metadata": {},
   "outputs": [
    {
     "name": "stdout",
     "output_type": "stream",
     "text": [
      "CPU times: user 3.46 s, sys: 184 ms, total: 3.64 s\n",
      "Wall time: 3.64 s\n"
     ]
    },
    {
     "data": {
      "text/plain": [
       "0.339123"
      ]
     },
     "execution_count": 12,
     "metadata": {},
     "output_type": "execute_result"
    }
   ],
   "source": [
    "%%time\n",
    "main_rectangles_py()"
   ]
  },
  {
   "cell_type": "markdown",
   "metadata": {},
   "source": [
    "<b>Whereas, python implementation takes 3640 s to run a similar program => a speed up of almost 6x</b>"
   ]
  },
  {
   "cell_type": "code",
   "execution_count": null,
   "metadata": {},
   "outputs": [],
   "source": []
  }
 ],
 "metadata": {
  "kernelspec": {
   "display_name": "Python 3",
   "language": "python",
   "name": "python3"
  },
  "language_info": {
   "codemirror_mode": {
    "name": "ipython",
    "version": 3
   },
   "file_extension": ".py",
   "mimetype": "text/x-python",
   "name": "python",
   "nbconvert_exporter": "python",
   "pygments_lexer": "ipython3",
   "version": "3.6.5"
  }
 },
 "nbformat": 4,
 "nbformat_minor": 2
}
